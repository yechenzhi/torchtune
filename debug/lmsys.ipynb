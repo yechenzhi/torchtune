{
 "cells": [
  {
   "cell_type": "code",
   "execution_count": 1,
   "metadata": {},
   "outputs": [
    {
     "name": "stderr",
     "output_type": "stream",
     "text": [
      "/root/.local/lib/python3.9/site-packages/tqdm/auto.py:21: TqdmWarning: IProgress not found. Please update jupyter and ipywidgets. See https://ipywidgets.readthedocs.io/en/stable/user_install.html\n",
      "  from .autonotebook import tqdm as notebook_tqdm\n"
     ]
    }
   ],
   "source": [
    "from torchtune.datasets import chatbot_arena_dataset\n",
    "from torchtune.models.llama3 import llama3_tokenizer\n",
    "tokenizer = llama3_tokenizer('/root/torchtune/debug/tokenizer.model')\n",
    "\n",
    "data = chatbot_arena_dataset(tokenizer,source='/root/dataDisk/full_val.csv',max_seq_len=10)"
   ]
  },
  {
   "cell_type": "code",
   "execution_count": 6,
   "metadata": {},
   "outputs": [
    {
     "data": {
      "text/plain": [
       "([Message(role='user', content='If I have 5 screws today and I gave 2 screws to my friend yesterady, how many screws do I have today', masked=False, ipython=False, eot=True),\n",
       "  Message(role='assistant A', content=\"You have 3 screws today.\\\\n\\\\nHere's the calculation:\\\\n\\\\n5 screws (that you have today) - 2 screws (that you gave to your friend yesterday) = 3 screws\", masked=False, ipython=False, eot=True),\n",
       "  Message(role='assistant B', content='You have 3 screws today.', masked=False, ipython=False, eot=True)],\n",
       " [128006,\n",
       "  882,\n",
       "  128007,\n",
       "  271,\n",
       "  2746,\n",
       "  358,\n",
       "  617,\n",
       "  220,\n",
       "  20,\n",
       "  46022,\n",
       "  3432,\n",
       "  323,\n",
       "  358,\n",
       "  6688,\n",
       "  220,\n",
       "  17,\n",
       "  46022,\n",
       "  311,\n",
       "  856,\n",
       "  4333,\n",
       "  379,\n",
       "  5302,\n",
       "  7759,\n",
       "  11,\n",
       "  1268,\n",
       "  1690,\n",
       "  46022,\n",
       "  656,\n",
       "  358,\n",
       "  617,\n",
       "  3432,\n",
       "  128009,\n",
       "  128006,\n",
       "  78191,\n",
       "  362,\n",
       "  128007,\n",
       "  271,\n",
       "  2675,\n",
       "  617,\n",
       "  220,\n",
       "  18,\n",
       "  46022,\n",
       "  3432,\n",
       "  7255,\n",
       "  77,\n",
       "  1734,\n",
       "  8586,\n",
       "  596,\n",
       "  279,\n",
       "  22702,\n",
       "  7338,\n",
       "  77,\n",
       "  1734,\n",
       "  20,\n",
       "  46022,\n",
       "  320,\n",
       "  9210,\n",
       "  499,\n",
       "  617,\n",
       "  3432,\n",
       "  8,\n",
       "  482,\n",
       "  220,\n",
       "  17,\n",
       "  46022,\n",
       "  320,\n",
       "  9210,\n",
       "  499,\n",
       "  6688,\n",
       "  311,\n",
       "  701,\n",
       "  4333,\n",
       "  13985,\n",
       "  8,\n",
       "  284,\n",
       "  220,\n",
       "  18,\n",
       "  46022,\n",
       "  128009,\n",
       "  128006,\n",
       "  78191,\n",
       "  426,\n",
       "  128007,\n",
       "  271,\n",
       "  2675,\n",
       "  617,\n",
       "  220,\n",
       "  18,\n",
       "  46022,\n",
       "  3432,\n",
       "  13,\n",
       "  128009])"
      ]
     },
     "execution_count": 6,
     "metadata": {},
     "output_type": "execute_result"
    }
   ],
   "source": [
    "data[0]"
   ]
  },
  {
   "cell_type": "code",
   "execution_count": 2,
   "metadata": {},
   "outputs": [
    {
     "data": {
      "text/plain": [
       "([Message(role='user', content='If I have 5 screws today and I gave 2 screws to my friend yesterady, how many screws do I have today', masked=False, ipython=False, eot=True),\n",
       "  Message(role='assistant A', content=\"You have 3 screws today.\\\\n\\\\nHere's the calculation:\\\\n\\\\n5 screws (that you have today) - 2 screws (that you gave to your friend yesterday) = 3 screws\", masked=False, ipython=False, eot=True),\n",
       "  Message(role='assistant B', content='You have 3 screws today.', masked=False, ipython=False, eot=True)],\n",
       " [128007, 271, 2675, 617, 220, 18, 46022, 3432, 13, 128009])"
      ]
     },
     "execution_count": 2,
     "metadata": {},
     "output_type": "execute_result"
    }
   ],
   "source": [
    "data[0]"
   ]
  },
  {
   "cell_type": "code",
   "execution_count": 9,
   "metadata": {},
   "outputs": [
    {
     "data": {
      "text/plain": [
       "'ady, how many screws do I have today<|eot_id|>'"
      ]
     },
     "execution_count": 9,
     "metadata": {},
     "output_type": "execute_result"
    }
   ],
   "source": [
    "tokenizer.decode([7759, 11, 1268, 1690, 46022, 656, 358, 617, 3432, 128009])"
   ]
  },
  {
   "cell_type": "code",
   "execution_count": 3,
   "metadata": {},
   "outputs": [
    {
     "data": {
      "text/plain": [
       "'<|start_header_id|>user<|end_header_id|>\\n\\nIf I have 5 screws today and I gave 2 screws to my friend yesterady, how many screws do I have today<|eot_id|><|start_header_id|>assistant_a<|end_header_id|>\\n\\nYou have '"
      ]
     },
     "execution_count": 3,
     "metadata": {},
     "output_type": "execute_result"
    }
   ],
   "source": [
    "tokenizer.decode([128000, 128006, 882, 128007, 271, 2746, 358, 617, 220, 20, 46022, 3432, 323, 358, 6688, 220, 17, 46022, 311, 856, 4333, 379, 5302, 7759, 11, 1268, 1690, 46022, 656, 358, 617, 3432, 128009, 128006, 78191, 4404, 128007, 271, 2675, 617, 220])"
   ]
  },
  {
   "cell_type": "code",
   "execution_count": 2,
   "metadata": {},
   "outputs": [
    {
     "data": {
      "text/plain": [
       "([Message(role='user', content='If I have 5 screws today and I gave 2 screws to my friend yesterady, how many screws do I have today', masked=False, ipython=False, eot=True),\n",
       "  Message(role='assistant_a', content=\"You have 3 screws today.\\\\n\\\\nHere's the calculation:\\\\n\\\\n5 screws (that you have today) - 2 screws (that you gave to your friend yesterday) = 3 screws\", masked=False, ipython=False, eot=True),\n",
       "  Message(role='assistant_b', content='You have 3 screws today.', masked=False, ipython=False, eot=True)],\n",
       " [128000,\n",
       "  128006,\n",
       "  882,\n",
       "  128007,\n",
       "  271,\n",
       "  2746,\n",
       "  358,\n",
       "  617,\n",
       "  220,\n",
       "  20,\n",
       "  46022,\n",
       "  3432,\n",
       "  323,\n",
       "  358,\n",
       "  6688,\n",
       "  220,\n",
       "  17,\n",
       "  46022,\n",
       "  311,\n",
       "  856,\n",
       "  4333,\n",
       "  379,\n",
       "  5302,\n",
       "  7759,\n",
       "  11,\n",
       "  1268,\n",
       "  1690,\n",
       "  46022,\n",
       "  656,\n",
       "  358,\n",
       "  617,\n",
       "  3432,\n",
       "  128009,\n",
       "  128006,\n",
       "  78191,\n",
       "  4404,\n",
       "  128007,\n",
       "  271,\n",
       "  2675,\n",
       "  617,\n",
       "  220,\n",
       "  18,\n",
       "  46022,\n",
       "  3432,\n",
       "  7255,\n",
       "  77,\n",
       "  1734,\n",
       "  8586,\n",
       "  596,\n",
       "  279,\n",
       "  22702,\n",
       "  7338,\n",
       "  77,\n",
       "  1734,\n",
       "  20,\n",
       "  46022,\n",
       "  320,\n",
       "  9210,\n",
       "  499,\n",
       "  617,\n",
       "  3432,\n",
       "  8,\n",
       "  482,\n",
       "  220,\n",
       "  17,\n",
       "  46022,\n",
       "  320,\n",
       "  9210,\n",
       "  499,\n",
       "  6688,\n",
       "  311,\n",
       "  701,\n",
       "  4333,\n",
       "  13985,\n",
       "  8,\n",
       "  284,\n",
       "  220,\n",
       "  18,\n",
       "  46022,\n",
       "  128009,\n",
       "  128006,\n",
       "  78191,\n",
       "  890,\n",
       "  128007,\n",
       "  271,\n",
       "  2675,\n",
       "  617,\n",
       "  220,\n",
       "  18,\n",
       "  46022,\n",
       "  3432,\n",
       "  13,\n",
       "  128009,\n",
       "  128001])"
      ]
     },
     "execution_count": 2,
     "metadata": {},
     "output_type": "execute_result"
    }
   ],
   "source": [
    "data[0]"
   ]
  }
 ],
 "metadata": {
  "kernelspec": {
   "display_name": "pytorch",
   "language": "python",
   "name": "python3"
  },
  "language_info": {
   "codemirror_mode": {
    "name": "ipython",
    "version": 3
   },
   "file_extension": ".py",
   "mimetype": "text/x-python",
   "name": "python",
   "nbconvert_exporter": "python",
   "pygments_lexer": "ipython3",
   "version": "3.9.18"
  }
 },
 "nbformat": 4,
 "nbformat_minor": 2
}
